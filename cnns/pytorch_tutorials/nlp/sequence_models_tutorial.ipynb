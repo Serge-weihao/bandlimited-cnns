{
 "cells": [
  {
   "cell_type": "code",
   "execution_count": null,
   "metadata": {
    "collapsed": false
   },
   "outputs": [],
   "source": [
    "%matplotlib inline"
   ]
  },
  {
   "cell_type": "markdown",
   "metadata": {},
   "source": [
    "\nSequence Models and Long-Short Term Memory Networks\n===================================================\n\nAt this point, we have seen various feed-forward networks. That is,\nthere is no state maintained by the network at all. This might not be\nthe behavior we want. Sequence models are central to NLP: they are\nmodels where there is some sort of dependence through time between your\ninputs. The classical example of a sequence model is the Hidden Markov\nModel for part-of-speech tagging. Another example is the conditional\nrandom field.\n\nA recurrent neural network is a network that maintains some kind of\nstate. For example, its output could be used as part of the next input,\nso that information can propogate along as the network passes over the\nsequence. In the case of an LSTM, for each element in the sequence,\nthere is a corresponding *hidden state* $h_t$, which in principle\ncan contain information from arbitrary points earlier in the sequence.\nWe can use the hidden state to predict words in a language model,\npart-of-speech tags, and a myriad of other things.\n\n\nLSTM's in Pytorch\n~~~~~~~~~~~~~~~~~\n\nBefore getting to the example, note a few things. Pytorch's LSTM expects\nall of its inputs to be 3D tensors. The semantics of the axes of these\ntensors is important. The first axis is the sequence itself, the second\nindexes instances in the mini-batch, and the third indexes elements of\nthe input. We haven't discussed mini-batching, so lets just ignore that\nand assume we will always have just 1 dimension on the second axis. If\nwe want to run the sequence model over the sentence \"The cow jumped\",\nour input should look like\n\n\\begin{align}\\begin{bmatrix}\n   \\overbrace{q_\\text{The}}^\\text{row vector} \\\\\n   q_\\text{cow} \\\\\n   q_\\text{jumped}\n   \\end{bmatrix}\\end{align}\n\nExcept remember there is an additional 2nd dimension with size 1.\n\nIn addition, you could go through the sequence one at a time, in which\ncase the 1st axis will have size 1 also.\n\nLet's see a quick example.\n\n"
   ]
  },
  {
   "cell_type": "code",
   "execution_count": 4,
   "metadata": {
    "collapsed": false
   },
   "outputs": [
    {
     "data": {
      "text/plain": [
       "<torch._C.Generator at 0x2b624c779b0>"
      ]
     },
     "execution_count": 4,
     "metadata": {},
     "output_type": "execute_result"
    }
   ],
   "source": [
    "# Author: Robert Guthrie\n",
    "\n",
    "import torch\n",
    "import torch.nn as nn\n",
    "import torch.nn.functional as F\n",
    "import torch.optim as optim\n",
    "\n",
    "torch.manual_seed(1)"
   ]
  },
  {
   "cell_type": "code",
   "execution_count": 8,
   "metadata": {
    "collapsed": false
   },
   "outputs": [
    {
     "name": "stdout",
     "output_type": "stream",
     "text": [
      "out:  tensor([[[-0.0270,  0.1753,  0.3409]]], grad_fn=<CatBackward>)\nhidden:  (tensor([[[-0.0270,  0.1753,  0.3409]]], grad_fn=<ViewBackward>), tensor([[[-0.0525,  0.6791,  0.5669]]], grad_fn=<ViewBackward>))\nout:  tensor([[[ 0.1600, -0.0196,  0.3136]]], grad_fn=<CatBackward>)\nhidden:  (tensor([[[ 0.1600, -0.0196,  0.3136]]], grad_fn=<ViewBackward>), tensor([[[ 0.3229, -0.0641,  0.4017]]], grad_fn=<ViewBackward>))\nout:  tensor([[[ 0.0526,  0.0861, -0.1031]]], grad_fn=<CatBackward>)\nhidden:  (tensor([[[ 0.0526,  0.0861, -0.1031]]], grad_fn=<ViewBackward>), tensor([[[ 0.1281,  0.2225, -0.2335]]], grad_fn=<ViewBackward>))\nout:  tensor([[[0.0883, 0.1529, 0.0473]]], grad_fn=<CatBackward>)\nhidden:  (tensor([[[0.0883, 0.1529, 0.0473]]], grad_fn=<ViewBackward>), tensor([[[0.1546, 0.2758, 0.0848]]], grad_fn=<ViewBackward>))\nout:  tensor([[[-0.0075, -0.0359,  0.0541]]], grad_fn=<CatBackward>)\nhidden:  (tensor([[[-0.0075, -0.0359,  0.0541]]], grad_fn=<ViewBackward>), tensor([[[-0.0090, -0.2157,  0.1439]]], grad_fn=<ViewBackward>))\nbatch out:  tensor([[[-0.0270,  0.1753,  0.3409]],\n\n        [[ 0.1600, -0.0196,  0.3136]],\n\n        [[ 0.0526,  0.0861, -0.1031]],\n\n        [[ 0.0883,  0.1529,  0.0473]],\n\n        [[-0.0075, -0.0359,  0.0541]]], grad_fn=<CatBackward>)\nfinal hidden:  (tensor([[[-0.0075, -0.0359,  0.0541]]], grad_fn=<ViewBackward>), tensor([[[-0.0090, -0.2157,  0.1439]]], grad_fn=<ViewBackward>))\n"
     ]
    }
   ],
   "source": [
    "lstm = nn.LSTM(3, 3)  # Input dim is 3, output dim is 3\n",
    "inputs = [torch.randn(1, 3) for _ in range(5)]  # make a sequence of length 5\n",
    "\n",
    "# initialize the hidden state.\n",
    "init_hidden = (torch.randn(1, 1, 3), torch.randn(1, 1, 3))\n",
    "hidden = init_hidden\n",
    "\n",
    "for i in inputs:\n",
    "    # Step through the sequence one element at a time.\n",
    "    # after each step, hidden contains the hidden state.\n",
    "    out, hidden = lstm(i.view(1, 1, -1), hidden)\n",
    "    print(\"out: \", out)\n",
    "    print(\"hidden: \", hidden)\n",
    "\n",
    "# alternatively, we can do the entire sequence all at once.\n",
    "# the first value returned by LSTM is all of the hidden states throughout\n",
    "# the sequence. the second is just the most recent hidden state\n",
    "# (compare the last slice of \"out\" with \"hidden\" below, they are the same)\n",
    "# The reason for this is that:\n",
    "# \"out\" will give you access to all hidden states in the sequence\n",
    "# \"hidden\" will allow you to continue the sequence and backpropagate,\n",
    "# by passing it as an argument  to the lstm at a later time\n",
    "# Add the extra 2nd dimension\n",
    "inputs = torch.cat(inputs).view(len(inputs), 1, -1)\n",
    "# hidden = (torch.randn(1, 1, 3), torch.randn(1, 1, 3))  # clean out hidden state\n",
    "hidden = init_hidden\n",
    "\n",
    "out, hidden = lstm(inputs, hidden)\n",
    "print(\"batch out: \", out)\n",
    "print(\"final hidden: \", hidden)\n"
   ]
  },
  {
   "cell_type": "markdown",
   "metadata": {},
   "source": [
    "Example: An LSTM for Part-of-Speech Tagging\n~~~~~~~~~~~~~~~~~~~~~~~~~~~~~~~~~~~~~~~~~~~\n\nIn this section, we will use an LSTM to get part of speech tags. We will\nnot use Viterbi or Forward-Backward or anything like that, but as a\n(challenging) exercise to the reader, think about how Viterbi could be\nused after you have seen what is going on.\n\nThe model is as follows: let our input sentence be\n$w_1, \\dots, w_M$, where $w_i \\in V$, our vocab. Also, let\n$T$ be our tag set, and $y_i$ the tag of word $w_i$.\nDenote our prediction of the tag of word $w_i$ by\n$\\hat{y}_i$.\n\nThis is a structure prediction, model, where our output is a sequence\n$\\hat{y}_1, \\dots, \\hat{y}_M$, where $\\hat{y}_i \\in T$.\n\nTo do the prediction, pass an LSTM over the sentence. Denote the hidden\nstate at timestep $i$ as $h_i$. Also, assign each tag a\nunique index (like how we had word\\_to\\_ix in the word embeddings\nsection). Then our prediction rule for $\\hat{y}_i$ is\n\n\\begin{align}\\hat{y}_i = \\text{argmax}_j \\  (\\log \\text{Softmax}(Ah_i + b))_j\\end{align}\n\nThat is, take the log softmax of the affine map of the hidden state,\nand the predicted tag is the tag that has the maximum value in this\nvector. Note this implies immediately that the dimensionality of the\ntarget space of $A$ is $|T|$.\n\n\nPrepare data:\n\n"
   ]
  },
  {
   "cell_type": "code",
   "execution_count": 41,
   "metadata": {
    "collapsed": false
   },
   "outputs": [
    {
     "name": "stdout",
     "output_type": "stream",
     "text": [
      "word to ix:  {'The': 0, 'dog': 1, 'ate': 2, 'the': 3, 'apple': 4, 'Everybody': 5, 'read': 6, 'that': 7, 'book': 8}\nchar to ix:  {'T': 0, 'h': 1, 'e': 2, 'd': 3, 'o': 4, 'g': 5, 'a': 6, 't': 7, 'p': 8, 'l': 9, 'E': 10, 'v': 11, 'r': 12, 'y': 13, 'b': 14, 'k': 15}\ntag to ix:  {'DET': 0, 'NN': 1, 'V': 2}\n"
     ]
    }
   ],
   "source": [
    "def prepare_sequence(seq, to_ix):\n",
    "    idxs = [to_ix[w] for w in seq]\n",
    "    return torch.tensor(idxs, dtype=torch.long)\n",
    "\n",
    "training_data = [\n",
    "    (\"The dog ate the apple\".split(), [\"DET\", \"NN\", \"V\", \"DET\", \"NN\"]),\n",
    "    (\"Everybody read that book\".split(), [\"NN\", \"V\", \"DET\", \"NN\"])\n",
    "]\n",
    "word_to_ix = {}\n",
    "char_to_ix = {}\n",
    "for sent, tags in training_data:\n",
    "    for word in sent:\n",
    "        if word not in word_to_ix:\n",
    "            word_to_ix[word] = len(word_to_ix)\n",
    "        for char in word:\n",
    "            if char not in char_to_ix:\n",
    "                char_to_ix[char] = len(char_to_ix)\n",
    "print(\"word to ix: \", word_to_ix)\n",
    "print(\"char to ix: \", char_to_ix)\n",
    "tag_to_ix = {\"DET\": 0, \"NN\": 1, \"V\": 2}\n",
    "print(\"tag to ix: \", tag_to_ix)\n",
    "# These will usually be more like 32 or 64 dimensional.\n",
    "# We will keep them small, so we can see how the weights change as we train.\n",
    "WORD_EMBEDDING_DIM = 6\n",
    "FULL_HIDDEN_DIM = 9  # hidden vector state for the full word + its characters\n",
    "CHAR_EMBEDDING_DIM = 3\n",
    "CHAR_HIDDEN_DIM = 3"
   ]
  },
  {
   "cell_type": "markdown",
   "metadata": {},
   "source": [
    "Create the model:\n",
    "\n"
   ]
  },
  {
   "cell_type": "code",
   "execution_count": 44,
   "metadata": {
    "collapsed": false
   },
   "outputs": [],
   "source": [
    "class LSTMTagger(nn.Module):\n",
    "    def __init__(self, word_embedding_dim, full_hidden_dim, vocab_size,\n",
    "                 tagset_size,\n",
    "                 char_embedding_dim, char_hidden_dim, char_dict_size,\n",
    "                 batch_size=1, num_layers=1):\n",
    "        super(LSTMTagger, self).__init__()\n",
    "        self.full_hidden_dim = full_hidden_dim\n",
    "        self.batch_size = batch_size\n",
    "        self.num_layers = num_layers\n",
    "        self.embedding_dim = word_embedding_dim\n",
    "        self.char_embedding_dim = char_embedding_dim\n",
    "        self.char_hidden_dim = char_hidden_dim\n",
    "        self.char_dict_size = char_dict_size\n",
    "\n",
    "        self.char_embeddings = nn.Embedding(char_dict_size, char_embedding_dim)\n",
    "\n",
    "        self.char_lstm = nn.LSTM(input_size=char_embedding_dim,\n",
    "                                 hidden_size=char_hidden_dim,\n",
    "                                 num_layers=num_layers)\n",
    "\n",
    "        self.char_hidden = self.init_char_hidden()\n",
    "\n",
    "        self.word_embeddings = nn.Embedding(vocab_size, word_embedding_dim)\n",
    "\n",
    "        # The LSTM takes word embeddings as inputs, and outputs hidden states\n",
    "        # with dimensionality hidden_dim.\n",
    "        self.lstm = nn.LSTM(input_size=word_embedding_dim + char_embedding_dim,\n",
    "                            hidden_size=full_hidden_dim, num_layers=num_layers)\n",
    "\n",
    "        # The linear layer that maps from cell state space to tag space\n",
    "        self.hidden2tag = nn.Linear(full_hidden_dim, tagset_size)\n",
    "\n",
    "        self.full_hidden = self.init_full_hidden()\n",
    "\n",
    "\n",
    "    def init_full_hidden(self):\n",
    "        # Before we've done anything, we don't have any hidden state.\n",
    "        # Refer to the Pytorch documentation to see exactly\n",
    "        # why they have this dimensionality.\n",
    "        # The axes semantics are (num_layers, minibatch_size, hidden_dim)\n",
    "        hidden_state = torch.zeros(self.num_layers, self.batch_size,\n",
    "                                   self.full_hidden_dim)\n",
    "        cell_state = torch.zeros(self.num_layers, self.batch_size,\n",
    "                                 self.full_hidden_dim)\n",
    "        return hidden_state, cell_state\n",
    "\n",
    "    def init_char_hidden(self):\n",
    "        hidden_state = torch.zeros(self.num_layers, self.batch_size,\n",
    "                                   self.char_hidden_dim)\n",
    "        cell_state = torch.zeros(self.num_layers, self.batch_size,\n",
    "                                 self.char_hidden_dim)\n",
    "        return hidden_state, cell_state\n",
    "\n",
    "    def forward(self, sentence):\n",
    "        char_embeds = []\n",
    "        for word_ix in sentence:\n",
    "            char_ix = prepare_sequence(wor)\n",
    "            char_embed = self.char_embeddings(word)\n",
    "            self.char_hidden = init_char_hidden()\n",
    "            char_out, self.char_hidden = self.char_lstm(char_embed.view(\n",
    "                len(word), self.batch_size, -1))\n",
    "            char_embeds.append(char_out)\n",
    "            \n",
    "        word_embeds = self.word_embeddings(sentence)\n",
    "        \n",
    "        full_embeds = []\n",
    "        for i, char_embed in enumerate(char_embeds):\n",
    "            full_embed = torch.cat((word_embeds[i], char_embed))\n",
    "            full_embeds.append(full_embed)\n",
    "            \n",
    "        full_embeds = torch.tensor(full_embeds)\n",
    "\n",
    "        lstm_out, self.hidden = self.lstm(\n",
    "            full_embeds.view(len(sentence), self.batch_size, -1), self.hidden)\n",
    "        tag_space = self.hidden2tag(lstm_out.view(len(sentence), -1))\n",
    "        tag_scores = F.log_softmax(tag_space, dim=1)\n",
    "        return tag_scores\n"
   ]
  },
  {
   "cell_type": "markdown",
   "metadata": {},
   "source": [
    "Train the model:\n\n"
   ]
  },
  {
   "cell_type": "code",
   "execution_count": 38,
   "metadata": {
    "collapsed": false
   },
   "outputs": [
    {
     "name": "stdout",
     "output_type": "stream",
     "text": [
      "tensor([[-1.2231, -0.8153, -1.3349],\n        [-1.3205, -0.7126, -1.4162],\n        [-1.3797, -0.6769, -1.4264],\n        [-1.3987, -0.6565, -1.4505],\n        [-1.3729, -0.6791, -1.4289]])\n"
     ]
    },
    {
     "name": "stdout",
     "output_type": "stream",
     "text": [
      "tensor([[-0.0433, -3.4213, -4.6308],\n        [-5.0335, -0.0169, -4.5826],\n        [-3.4704, -3.5979, -0.0603],\n        [-0.1952, -3.1356, -2.0112],\n        [-4.6059, -0.0257, -4.1740]])\n"
     ]
    }
   ],
   "source": [
    "model = LSTMTagger(word_embedding_dim=WORD_EMBEDDING_DIM, full_hidden_dim=FULL_HIDDEN_DIM, \n",
    "                   vocab_size=len(word_to_ix), tagset_size=len(tag_to_ix),\n",
    "                   char_embedding_dim=CHAR_EMBEDDING_DIM, char_hidden_dim=CHAR_HIDDEN_DIM, \n",
    "                   char_dict_size=len(char_to_ix))\n",
    "loss_function = nn.NLLLoss()\n",
    "optimizer = optim.SGD(model.parameters(), lr=0.1)\n",
    "\n",
    "# See what the scores are before training\n",
    "# Note that element i,j of the output is the score for tag j for word i.\n",
    "# Here we don't need to train, so the code is wrapped in torch.no_grad()\n",
    "with torch.no_grad():\n",
    "    inputs = prepare_sequence(training_data[0][0], word_to_ix)\n",
    "    tag_scores = model(inputs)\n",
    "    print(tag_scores)\n",
    "\n",
    "for epoch in range(\n",
    "        300):  # again, normally you would NOT do 300 epochs, it is toy data\n",
    "    for sentence, tags in training_data:\n",
    "        # Step 1. Remember that Pytorch accumulates gradients.\n",
    "        # We need to clear them out before each instance\n",
    "        model.zero_grad()\n",
    "\n",
    "        # Also, we need to clear out the hidden state of the LSTM,\n",
    "        # detaching it from its history on the last instance.\n",
    "        model.hidden = model.init_full_hidden()\n",
    "\n",
    "        # Step 2. Get our inputs ready for the network, that is, turn them into\n",
    "        # Tensors of word indices.\n",
    "        sentence_in = prepare_sequence(sentence, word_to_ix)\n",
    "        targets = prepare_sequence(tags, tag_to_ix)\n",
    "\n",
    "        # Step 3. Run our forward pass.\n",
    "        tag_scores = model(sentence_in)\n",
    "\n",
    "        # Step 4. Compute the loss, gradients, and update the parameters by\n",
    "        #  calling optimizer.step()\n",
    "        loss = loss_function(tag_scores, targets)\n",
    "        loss.backward()\n",
    "        optimizer.step()\n",
    "\n",
    "# See what the scores are after training\n",
    "with torch.no_grad():\n",
    "    inputs = prepare_sequence(training_data[0][0], word_to_ix)\n",
    "    tag_scores = model(inputs)\n",
    "\n",
    "    # The sentence is \"the dog ate the apple\".  i,j corresponds to score for tag j\n",
    "    # for word i. The predicted tag is the maximum scoring tag.\n",
    "    # Here, we can see the predicted sequence below is 0 1 2 0 1\n",
    "    # since 0 is index of the maximum value of row 1,\n",
    "    # 1 is the index of maximum value of row 2, etc.\n",
    "    # Which is DET NOUN VERB DET NOUN, the correct sequence!\n",
    "    print(tag_scores)\n"
   ]
  },
  {
   "cell_type": "markdown",
   "metadata": {},
   "source": [
    "Exercise: Augmenting the LSTM part-of-speech tagger with character-level features\n~~~~~~~~~~~~~~~~~~~~~~~~~~~~~~~~~~~~~~~~~~~~~~~~~~~~~~~~~~~~~~~~~~~~~~~~~~~~~~~~~\n\nIn the example above, each word had an embedding, which served as the\ninputs to our sequence model. Let's augment the word embeddings with a\nrepresentation derived from the characters of the word. We expect that\nthis should help significantly, since character-level information like\naffixes have a large bearing on part-of-speech. For example, words with\nthe affix *-ly* are almost always tagged as adverbs in English.\n\nTo do this, let $c_w$ be the character-level representation of\nword $w$. Let $x_w$ be the word embedding as before. Then\nthe input to our sequence model is the concatenation of $x_w$ and\n$c_w$. So if $x_w$ has dimension 5, and $c_w$\ndimension 3, then our LSTM should accept an input of dimension 8.\n\nTo get the character level representation, do an LSTM over the\ncharacters of a word, and let $c_w$ be the final hidden state of\nthis LSTM. Hints:\n\n* There are going to be two LSTM's in your new model.\n  The original one that outputs POS tag scores, and the new one that\n  outputs a character-level representation of each word.\n* To do a sequence model over characters, you will have to embed characters.\n  The character embeddings will be the input to the character LSTM.\n\n\n"
   ]
  }
 ],
 "metadata": {
  "kernelspec": {
   "display_name": "Python 3",
   "language": "python",
   "name": "python3"
  },
  "language_info": {
   "codemirror_mode": {
    "name": "ipython",
    "version": 3
   },
   "file_extension": ".py",
   "mimetype": "text/x-python",
   "name": "python",
   "nbconvert_exporter": "python",
   "pygments_lexer": "ipython3",
   "version": "3.6.4"
  }
 },
 "nbformat": 4,
 "nbformat_minor": 0
}
