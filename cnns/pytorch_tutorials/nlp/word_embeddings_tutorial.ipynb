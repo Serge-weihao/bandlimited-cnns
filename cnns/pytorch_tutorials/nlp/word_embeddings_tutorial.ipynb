{
 "cells": [
  {
   "cell_type": "code",
   "execution_count": null,
   "metadata": {
    "collapsed": false
   },
   "outputs": [],
   "source": [
    "%matplotlib inline"
   ]
  },
  {
   "cell_type": "markdown",
   "metadata": {},
   "source": [
    "\n",
    "Word Embeddings: Encoding Lexical Semantics\n",
    "===========================================\n",
    "\n",
    "Word embeddings are dense vectors of real numbers, one per word in your\n",
    "vocabulary. In NLP, it is almost always the case that your features are\n",
    "words! But how should you represent a word in a computer? You could\n",
    "store its ascii character representation, but that only tells you what\n",
    "the word *is*, it doesn't say much about what it *means* (you might be\n",
    "able to derive its part of speech from its affixes, or properties from\n",
    "its capitalization, but not much). Even more, in what sense could you\n",
    "combine these representations? We often want dense outputs from our\n",
    "neural networks, where the inputs are $|V|$ dimensional, where\n",
    "$V$ is our vocabulary, but often the outputs are only a few\n",
    "dimensional (if we are only predicting a handful of labels, for\n",
    "instance). How do we get from a massive dimensional space to a smaller\n",
    "dimensional space?\n",
    "\n",
    "How about instead of ascii representations, we use a one-hot encoding?\n",
    "That is, we represent the word $w$ by\n",
    "\n",
    "\\begin{align}\\overbrace{\\left[ 0, 0, \\dots, 1, \\dots, 0, 0 \\right]}^\\text{|V| elements}\\end{align}\n",
    "\n",
    "where the 1 is in a location unique to $w$. Any other word will\n",
    "have a 1 in some other location, and a 0 everywhere else.\n",
    "\n",
    "There is an enormous drawback to this representation, besides just how\n",
    "huge it is. It basically treats all words as independent entities with\n",
    "no relation to each other. What we really want is some notion of\n",
    "*similarity* between words. Why? Let's see an example.\n",
    "\n",
    "Suppose we are building a language model. Suppose we have seen the\n",
    "sentences\n",
    "\n",
    "* The mathematician ran to the store.\n",
    "* The physicist ran to the store.\n",
    "* The mathematician solved the open problem.\n",
    "\n",
    "in our training data. Now suppose we get a new sentence never before\n",
    "seen in our training data:\n",
    "\n",
    "* The physicist solved the open problem.\n",
    "\n",
    "Our language model might do OK on this sentence, but wouldn't it be much\n",
    "better if we could use the following two facts:\n",
    "\n",
    "* We have seen  mathematician and physicist in the same role in a sentence. Somehow they\n",
    "  have a semantic relation.\n",
    "* We have seen mathematician in the same role  in this new unseen sentence\n",
    "  as we are now seeing physicist.\n",
    "\n",
    "and then infer that physicist is actually a good fit in the new unseen\n",
    "sentence? This is what we mean by a notion of similarity: we mean\n",
    "*semantic similarity*, not simply having similar orthographic\n",
    "representations. It is a technique to combat the sparsity of linguistic\n",
    "data, by connecting the dots between what we have seen and what we\n",
    "haven't. This example of course relies on a fundamental linguistic\n",
    "assumption: that words appearing in similar contexts are related to each\n",
    "other semantically. This is called the `distributional\n",
    "hypothesis <https://en.wikipedia.org/wiki/Distributional_semantics>`__.\n",
    "\n",
    "\n",
    "Getting Dense Word Embeddings\n",
    "~~~~~~~~~~~~~~~~~~~~~~~~~~~~~\n",
    "\n",
    "How can we solve this problem? That is, how could we actually encode\n",
    "semantic similarity in words? Maybe we think up some semantic\n",
    "attributes. For example, we see that both mathematicians and physicists\n",
    "can run, so maybe we give these words a high score for the \"is able to\n",
    "run\" semantic attribute. Think of some other attributes, and imagine\n",
    "what you might score some common words on those attributes.\n",
    "\n",
    "If each attribute is a dimension, then we might give each word a vector,\n",
    "like this:\n",
    "\n",
    "\\begin{align}q_\\text{mathematician} = \\left[ \\overbrace{2.3}^\\text{can run},\n",
    "   \\overbrace{9.4}^\\text{likes coffee}, \\overbrace{-5.5}^\\text{majored in Physics}, \\dots \\right]\\end{align}\n",
    "\n",
    "\\begin{align}q_\\text{physicist} = \\left[ \\overbrace{2.5}^\\text{can run},\n",
    "   \\overbrace{9.1}^\\text{likes coffee}, \\overbrace{6.4}^\\text{majored in Physics}, \\dots \\right]\\end{align}\n",
    "\n",
    "Then we can get a measure of similarity between these words by doing:\n",
    "\n",
    "\\begin{align}\\text{Similarity}(\\text{physicist}, \\text{mathematician}) = q_\\text{physicist} \\cdot q_\\text{mathematician}\\end{align}\n",
    "\n",
    "Although it is more common to normalize by the lengths:\n",
    "\n",
    "\\begin{align}\\text{Similarity}(\\text{physicist}, \\text{mathematician}) = \\frac{q_\\text{physicist} \\cdot q_\\text{mathematician}}\n",
    "   {\\| q_\\text{\\physicist} \\| \\| q_\\text{mathematician} \\|} = \\cos (\\phi)\\end{align}\n",
    "\n",
    "Where $\\phi$ is the angle between the two vectors. That way,\n",
    "extremely similar words (words whose embeddings point in the same\n",
    "direction) will have similarity 1. Extremely dissimilar words should\n",
    "have similarity -1.\n",
    "\n",
    "\n",
    "You can think of the sparse one-hot vectors from the beginning of this\n",
    "section as a special case of these new vectors we have defined, where\n",
    "each word basically has similarity 0, and we gave each word some unique\n",
    "semantic attribute. These new vectors are *dense*, which is to say their\n",
    "entries are (typically) non-zero.\n",
    "\n",
    "But these new vectors are a big pain: you could think of thousands of\n",
    "different semantic attributes that might be relevant to determining\n",
    "similarity, and how on earth would you set the values of the different\n",
    "attributes? Central to the idea of deep learning is that the neural\n",
    "network learns representations of the features, rather than requiring\n",
    "the programmer to design them herself. So why not just let the word\n",
    "embeddings be parameters in our model, and then be updated during\n",
    "training? This is exactly what we will do. We will have some *latent\n",
    "semantic attributes* that the network can, in principle, learn. Note\n",
    "that the word embeddings will probably not be interpretable. That is,\n",
    "although with our hand-crafted vectors above we can see that\n",
    "mathematicians and physicists are similar in that they both like coffee,\n",
    "if we allow a neural network to learn the embeddings and see that both\n",
    "mathematicians and physicists have a large value in the second\n",
    "dimension, it is not clear what that means. They are similar in some\n",
    "latent semantic dimension, but this probably has no interpretation to\n",
    "us.\n",
    "\n",
    "\n",
    "In summary, **word embeddings are a representation of the *semantics* of\n",
    "a word, efficiently encoding semantic information that might be relevant\n",
    "to the task at hand**. You can embed other things too: part of speech\n",
    "tags, parse trees, anything! The idea of feature embeddings is central\n",
    "to the field.\n",
    "\n",
    "\n",
    "Word Embeddings in Pytorch\n",
    "~~~~~~~~~~~~~~~~~~~~~~~~~~\n",
    "\n",
    "Before we get to a worked example and an exercise, a few quick notes\n",
    "about how to use embeddings in Pytorch and in deep learning programming\n",
    "in general. Similar to how we defined a unique index for each word when\n",
    "making one-hot vectors, we also need to define an index for each word\n",
    "when using embeddings. These will be keys into a lookup table. That is,\n",
    "embeddings are stored as a $|V| \\times D$ matrix, where $D$\n",
    "is the dimensionality of the embeddings, such that the word assigned\n",
    "index $i$ has its embedding stored in the $i$'th row of the\n",
    "matrix. In all of my code, the mapping from words to indices is a\n",
    "dictionary named word\\_to\\_ix.\n",
    "\n",
    "The module that allows you to use embeddings is torch.nn.Embedding,\n",
    "which takes two arguments: the vocabulary size, and the dimensionality\n",
    "of the embeddings.\n",
    "\n",
    "To index into this table, you must use torch.LongTensor (since the\n",
    "indices are integers, not floats).\n",
    "\n",
    "\n"
   ]
  },
  {
   "cell_type": "code",
   "execution_count": 3,
   "metadata": {
    "collapsed": false
   },
   "outputs": [
    {
     "data": {
      "text/plain": [
       "<torch._C.Generator at 0x223b92c0b10>"
      ]
     },
     "execution_count": 3,
     "metadata": {},
     "output_type": "execute_result"
    }
   ],
   "source": [
    "# Author: Robert Guthrie\n",
    "\n",
    "import torch\n",
    "import torch.nn as nn\n",
    "import torch.nn.functional as F\n",
    "import torch.optim as optim\n",
    "\n",
    "torch.manual_seed(1)"
   ]
  },
  {
   "cell_type": "code",
   "execution_count": 6,
   "metadata": {
    "collapsed": false
   },
   "outputs": [
    {
     "name": "stdout",
     "output_type": "stream",
     "text": [
      "hello embedding:  tensor([[ 3.5870, -1.8313,  1.5987, -1.2770,  0.3255]], grad_fn=<EmbeddingBackward>)\nworld embedding:  tensor([[-0.4791,  1.3790,  2.5286,  0.4107, -0.9880]], grad_fn=<EmbeddingBackward>)\n"
     ]
    }
   ],
   "source": [
    "word_to_ix = {\"hello\": 0, \"world\": 1}\n",
    "embeds = nn.Embedding(2, 5)  # 2 words in vocab, 5 dimensional embeddings\n",
    "lookup_tensor = torch.tensor([word_to_ix[\"hello\"]], dtype=torch.long)\n",
    "hello_embed = embeds(lookup_tensor)\n",
    "print(\"hello embedding: \", hello_embed)\n",
    "\n",
    "world_tensor = torch.tensor([word_to_ix[\"world\"]], dtype=torch.long)\n",
    "world_embed = embeds(world_tensor)\n",
    "print(\"world embedding: \", world_embed)"
   ]
  },
  {
   "cell_type": "markdown",
   "metadata": {},
   "source": [
    "An Example: N-Gram Language Modeling\n",
    "~~~~~~~~~~~~~~~~~~~~~~~~~~~~~~~~~~~~\n",
    "\n",
    "Recall that in an n-gram language model, given a sequence of words\n",
    "$w$, we want to compute\n",
    "\n",
    "\\begin{align}P(w_i | w_{i-1}, w_{i-2}, \\dots, w_{i-n+1} )\\end{align}\n",
    "\n",
    "Where $w_i$ is the ith word of the sequence.\n",
    "\n",
    "In this example, we will compute the loss function on some training\n",
    "examples and update the parameters with backpropagation.\n",
    "\n",
    "\n"
   ]
  },
  {
   "cell_type": "code",
   "execution_count": 13,
   "metadata": {
    "collapsed": false
   },
   "outputs": [
    {
     "name": "stdout",
     "output_type": "stream",
     "text": [
      "next most probable word is:  thy\nsorted probs:  [['thy', -4.186922], ['art', -4.1922836], ['Thy', -4.248099], ['of', -4.2611537], ['To', -4.2630076], [\"feel'st\", -4.277316], ['shall', -4.311347], ['all-eating', -4.315796], ['trenches', -4.335431], ['winters', -4.3398404], ['weed', -4.344031], ['to', -4.3594456], ['an', -4.3658733], ['Then', -4.3755765], ['field,', -4.3875885], ['This', -4.4035196], ['cold.', -4.4039836], ['asked,', -4.413395], ['be', -4.4173007], ['when', -4.4187098], ['And', -4.420888], ['sunken', -4.435668], ['use,', -4.454238], ['eyes,', -4.4582515], ['new', -4.470178], ['livery', -4.4881845], ['fair', -4.48823], ['answer', -4.4896107], ['couldst', -4.494951], ['deep', -4.4967484], ['worth', -4.5047307], ['make', -4.5149193], ['thine!', -4.523828], ['and', -4.5316954], ['old', -4.541312], ['thou', -4.542433], [\"deserv'd\", -4.5449767], ['my', -4.5454288], ['Will', -4.546628], ['small', -4.558781], ['were', -4.560234], ['proud', -4.565142], [\"youth's\", -4.5692616], ['thine', -4.5696316], ['lusty', -4.575783], [\"excuse,'\", -4.5793695], ['sum', -4.587189], ['held:', -4.5924115], ['blood', -4.593034], ['child', -4.6025386], ['much', -4.6080484], ['mine', -4.6193256], ['on', -4.6253176], ['so', -4.6262584], ['gazed', -4.627983], ['a', -4.6304474], ['his', -4.634258], ['count,', -4.6342707], ['old,', -4.638082], ['days;', -4.6426125], ['thriftless', -4.6506767], ['Were', -4.6526656], ['in', -4.654818], [\"beauty's\", -4.656125], ['own', -4.6561947], ['all', -4.6609883], ['succession', -4.666073], ['more', -4.679204], [\"totter'd\", -4.6818657], ['within', -4.689345], [\"'This\", -4.7001176], ['besiege', -4.702865], ['praise', -4.7082815], ['the', -4.7130375], ['Proving', -4.7230167], ['shame,', -4.727713], ['brow,', -4.739775], ['where', -4.753501], ['praise.', -4.7548923], ['see', -4.755212], ['Where', -4.7792172], ['Shall', -4.7813163], ['forty', -4.7825603], ['How', -4.806548], ['treasure', -4.8108234], ['dig', -4.8125415], ['by', -4.825708], ['beauty', -4.8277187], ['it', -4.830165], ['being', -4.8485456], ['say,', -4.8581595], ['lies,', -4.8927193], ['When', -4.9533033], ['warm', -4.9603124], ['If', -4.9679556], ['now,', -4.976203], ['made', -4.985473]]\n"
     ]
    }
   ],
   "source": [
    "CONTEXT_SIZE = 2\n",
    "EMBEDDING_DIM = 10\n",
    "# We will use Shakespeare Sonnet 2\n",
    "test_sentence = \"\"\"When forty winters shall besiege thy brow,\n",
    "And dig deep trenches in thy beauty's field,\n",
    "Thy youth's proud livery so gazed on now,\n",
    "Will be a totter'd weed of small worth held:\n",
    "Then being asked, where all thy beauty lies,\n",
    "Where all the treasure of thy lusty days;\n",
    "To say, within thine own deep sunken eyes,\n",
    "Were an all-eating shame, and thriftless praise.\n",
    "How much more praise deserv'd thy beauty's use,\n",
    "If thou couldst answer 'This fair child of mine\n",
    "Shall sum my count, and make my old excuse,'\n",
    "Proving his beauty by succession thine!\n",
    "This were to be new made when thou art old,\n",
    "And see thy blood warm when thou feel'st it cold.\"\"\".split()\n",
    "# we should tokenize the input, but we will ignore that for now\n",
    "# build a list of tuples.  Each tuple is ([ word_i-2, word_i-1 ], target word)\n",
    "trigrams = [([test_sentence[i], test_sentence[i + 1]], test_sentence[i + 2])\n",
    "            for i in range(len(test_sentence) - 2)]\n",
    "# print the first 3, just so you can see what they look like\n",
    "print(\"triagrams: \", trigrams[:3])\n"
   ]
  },
  {
   "cell_type": "code",
   "execution_count": 15,
   "metadata": {
    "collapsed": false
   },
   "outputs": [
    {
     "name": "stdout",
     "output_type": "stream",
     "text": [
      "next most probable word is:  thy\nsorted probs:  [['thy', -4.186922], ['art', -4.1922836], ['Thy', -4.248099], ['of', -4.2611537], ['To', -4.2630076], [\"feel'st\", -4.277316], ['shall', -4.311347], ['all-eating', -4.315796], ['trenches', -4.335431], ['winters', -4.3398404], ['weed', -4.344031], ['to', -4.3594456], ['an', -4.3658733], ['Then', -4.3755765], ['field,', -4.3875885], ['This', -4.4035196], ['cold.', -4.4039836], ['asked,', -4.413395], ['be', -4.4173007], ['when', -4.4187098], ['And', -4.420888], ['sunken', -4.435668], ['use,', -4.454238], ['eyes,', -4.4582515], ['new', -4.470178], ['livery', -4.4881845], ['fair', -4.48823], ['answer', -4.4896107], ['couldst', -4.494951], ['deep', -4.4967484], ['worth', -4.5047307], ['make', -4.5149193], ['thine!', -4.523828], ['and', -4.5316954], ['old', -4.541312], ['thou', -4.542433], [\"deserv'd\", -4.5449767], ['my', -4.5454288], ['Will', -4.546628], ['small', -4.558781], ['were', -4.560234], ['proud', -4.565142], [\"youth's\", -4.5692616], ['thine', -4.5696316], ['lusty', -4.575783], [\"excuse,'\", -4.5793695], ['sum', -4.587189], ['held:', -4.5924115], ['blood', -4.593034], ['child', -4.6025386], ['much', -4.6080484], ['mine', -4.6193256], ['on', -4.6253176], ['so', -4.6262584], ['gazed', -4.627983], ['a', -4.6304474], ['his', -4.634258], ['count,', -4.6342707], ['old,', -4.638082], ['days;', -4.6426125], ['thriftless', -4.6506767], ['Were', -4.6526656], ['in', -4.654818], [\"beauty's\", -4.656125], ['own', -4.6561947], ['all', -4.6609883], ['succession', -4.666073], ['more', -4.679204], [\"totter'd\", -4.6818657], ['within', -4.689345], [\"'This\", -4.7001176], ['besiege', -4.702865], ['praise', -4.7082815], ['the', -4.7130375], ['Proving', -4.7230167], ['shame,', -4.727713], ['brow,', -4.739775], ['where', -4.753501], ['praise.', -4.7548923], ['see', -4.755212], ['Where', -4.7792172], ['Shall', -4.7813163], ['forty', -4.7825603], ['How', -4.806548], ['treasure', -4.8108234], ['dig', -4.8125415], ['by', -4.825708], ['beauty', -4.8277187], ['it', -4.830165], ['being', -4.8485456], ['say,', -4.8581595], ['lies,', -4.8927193], ['When', -4.9533033], ['warm', -4.9603124], ['If', -4.9679556], ['now,', -4.976203], ['made', -4.985473]]\n"
     ]
    }
   ],
   "source": [
    "\n",
    "vocab = set(test_sentence)\n",
    "word_to_ix = {word: i for i, word in enumerate(vocab)}\n",
    "print(\"word_to_ix for When: \", word_to_ix['When'])"
   ]
  },
  {
   "cell_type": "code",
   "execution_count": 17,
   "metadata": {
    "collapsed": false
   },
   "outputs": [
    {
     "name": "stdout",
     "output_type": "stream",
     "text": [
      "next most probable word is:  thy\nsorted probs:  [['thy', -4.186922], ['art', -4.1922836], ['Thy', -4.248099], ['of', -4.2611537], ['To', -4.2630076], [\"feel'st\", -4.277316], ['shall', -4.311347], ['all-eating', -4.315796], ['trenches', -4.335431], ['winters', -4.3398404], ['weed', -4.344031], ['to', -4.3594456], ['an', -4.3658733], ['Then', -4.3755765], ['field,', -4.3875885], ['This', -4.4035196], ['cold.', -4.4039836], ['asked,', -4.413395], ['be', -4.4173007], ['when', -4.4187098], ['And', -4.420888], ['sunken', -4.435668], ['use,', -4.454238], ['eyes,', -4.4582515], ['new', -4.470178], ['livery', -4.4881845], ['fair', -4.48823], ['answer', -4.4896107], ['couldst', -4.494951], ['deep', -4.4967484], ['worth', -4.5047307], ['make', -4.5149193], ['thine!', -4.523828], ['and', -4.5316954], ['old', -4.541312], ['thou', -4.542433], [\"deserv'd\", -4.5449767], ['my', -4.5454288], ['Will', -4.546628], ['small', -4.558781], ['were', -4.560234], ['proud', -4.565142], [\"youth's\", -4.5692616], ['thine', -4.5696316], ['lusty', -4.575783], [\"excuse,'\", -4.5793695], ['sum', -4.587189], ['held:', -4.5924115], ['blood', -4.593034], ['child', -4.6025386], ['much', -4.6080484], ['mine', -4.6193256], ['on', -4.6253176], ['so', -4.6262584], ['gazed', -4.627983], ['a', -4.6304474], ['his', -4.634258], ['count,', -4.6342707], ['old,', -4.638082], ['days;', -4.6426125], ['thriftless', -4.6506767], ['Were', -4.6526656], ['in', -4.654818], [\"beauty's\", -4.656125], ['own', -4.6561947], ['all', -4.6609883], ['succession', -4.666073], ['more', -4.679204], [\"totter'd\", -4.6818657], ['within', -4.689345], [\"'This\", -4.7001176], ['besiege', -4.702865], ['praise', -4.7082815], ['the', -4.7130375], ['Proving', -4.7230167], ['shame,', -4.727713], ['brow,', -4.739775], ['where', -4.753501], ['praise.', -4.7548923], ['see', -4.755212], ['Where', -4.7792172], ['Shall', -4.7813163], ['forty', -4.7825603], ['How', -4.806548], ['treasure', -4.8108234], ['dig', -4.8125415], ['by', -4.825708], ['beauty', -4.8277187], ['it', -4.830165], ['being', -4.8485456], ['say,', -4.8581595], ['lies,', -4.8927193], ['When', -4.9533033], ['warm', -4.9603124], ['If', -4.9679556], ['now,', -4.976203], ['made', -4.985473]]\n"
     ]
    }
   ],
   "source": [
    "\n",
    "\n",
    "class NGramLanguageModeler(nn.Module):\n",
    "\n",
    "    def __init__(self, vocab_size, embedding_dim, context_size):\n",
    "        super(NGramLanguageModeler, self).__init__()\n",
    "        self.embeddings = nn.Embedding(vocab_size, embedding_dim)\n",
    "        self.linear1 = nn.Linear(context_size * embedding_dim, 128)\n",
    "        # returns probability of a new word (shows the probability for each \n",
    "        # word in the vocabulary) after the two context words are given  \n",
    "        self.linear2 = nn.Linear(128, vocab_size)\n",
    "\n",
    "    def forward(self, inputs):\n",
    "        embeds = self.embeddings(inputs).view((1, -1))\n",
    "        out = F.relu(self.linear1(embeds))\n",
    "        out = self.linear2(out)\n",
    "        log_probs = F.log_softmax(out, dim=1)\n",
    "        return log_probs\n",
    "\n",
    "\n",
    "losses = []\n",
    "loss_function = nn.NLLLoss()\n",
    "model = NGramLanguageModeler(len(vocab), EMBEDDING_DIM, CONTEXT_SIZE)\n",
    "optimizer = optim.SGD(model.parameters(), lr=0.001)\n",
    "\n",
    "for epoch in range(10):\n",
    "    total_loss = 0\n",
    "    for context, target in trigrams:\n",
    "\n",
    "        # Step 1. Prepare the inputs to be passed to the model (i.e, turn the words\n",
    "        # into integer indices and wrap them in tensors)\n",
    "        context_idxs = torch.tensor([word_to_ix[w] for w in context], dtype=torch.long)\n",
    "\n",
    "        # Step 2. Recall that torch *accumulates* gradients. Before passing in a\n",
    "        # new instance, you need to zero out the gradients from the old\n",
    "        # instance\n",
    "        model.zero_grad()\n",
    "\n",
    "        # Step 3. Run the forward pass, getting log probabilities over next\n",
    "        # words\n",
    "        log_probs = model(context_idxs)\n",
    "\n",
    "        # Step 4. Compute your loss function. (Again, Torch wants the target\n",
    "        # word wrapped in a tensor)\n",
    "        loss = loss_function(log_probs, torch.tensor([word_to_ix[target]], dtype=torch.long))\n",
    "\n",
    "        # Step 5. Do the backward pass and update the gradient\n",
    "        loss.backward()\n",
    "        optimizer.step()\n",
    "\n",
    "        # Get the Python number from a 1-element Tensor by calling tensor.item()\n",
    "        total_loss += loss.item()\n",
    "    losses.append(total_loss)\n",
    "print(losses)  # The loss decreased every iteration over the training data!\n"
   ]
  },
  {
   "cell_type": "code",
   "execution_count": 36,
   "metadata": {
    "collapsed": false
   },
   "outputs": [
    {
     "name": "stdout",
     "output_type": "stream",
     "text": [
      "next most probable word is:  thy\nsorted probs:  [['thy', -4.186922], ['art', -4.1922836], ['Thy', -4.248099], ['of', -4.2611537], ['To', -4.2630076], [\"feel'st\", -4.277316], ['shall', -4.311347], ['all-eating', -4.315796], ['trenches', -4.335431], ['winters', -4.3398404], ['weed', -4.344031], ['to', -4.3594456], ['an', -4.3658733], ['Then', -4.3755765], ['field,', -4.3875885], ['This', -4.4035196], ['cold.', -4.4039836], ['asked,', -4.413395], ['be', -4.4173007], ['when', -4.4187098], ['And', -4.420888], ['sunken', -4.435668], ['use,', -4.454238], ['eyes,', -4.4582515], ['new', -4.470178], ['livery', -4.4881845], ['fair', -4.48823], ['answer', -4.4896107], ['couldst', -4.494951], ['deep', -4.4967484], ['worth', -4.5047307], ['make', -4.5149193], ['thine!', -4.523828], ['and', -4.5316954], ['old', -4.541312], ['thou', -4.542433], [\"deserv'd\", -4.5449767], ['my', -4.5454288], ['Will', -4.546628], ['small', -4.558781], ['were', -4.560234], ['proud', -4.565142], [\"youth's\", -4.5692616], ['thine', -4.5696316], ['lusty', -4.575783], [\"excuse,'\", -4.5793695], ['sum', -4.587189], ['held:', -4.5924115], ['blood', -4.593034], ['child', -4.6025386], ['much', -4.6080484], ['mine', -4.6193256], ['on', -4.6253176], ['so', -4.6262584], ['gazed', -4.627983], ['a', -4.6304474], ['his', -4.634258], ['count,', -4.6342707], ['old,', -4.638082], ['days;', -4.6426125], ['thriftless', -4.6506767], ['Were', -4.6526656], ['in', -4.654818], [\"beauty's\", -4.656125], ['own', -4.6561947], ['all', -4.6609883], ['succession', -4.666073], ['more', -4.679204], [\"totter'd\", -4.6818657], ['within', -4.689345], [\"'This\", -4.7001176], ['besiege', -4.702865], ['praise', -4.7082815], ['the', -4.7130375], ['Proving', -4.7230167], ['shame,', -4.727713], ['brow,', -4.739775], ['where', -4.753501], ['praise.', -4.7548923], ['see', -4.755212], ['Where', -4.7792172], ['Shall', -4.7813163], ['forty', -4.7825603], ['How', -4.806548], ['treasure', -4.8108234], ['dig', -4.8125415], ['by', -4.825708], ['beauty', -4.8277187], ['it', -4.830165], ['being', -4.8485456], ['say,', -4.8581595], ['lies,', -4.8927193], ['When', -4.9533033], ['warm', -4.9603124], ['If', -4.9679556], ['now,', -4.976203], ['made', -4.985473]]\n"
     ]
    }
   ],
   "source": [
    "context = ['When', 'forty']\n",
    "context_idxs = torch.tensor([word_to_ix[w] for w in context], dtype=torch.long)\n",
    "log_probs = model(context_idxs)\n",
    "max_ix = torch.argmax(log_probs)\n",
    "# ix_to_word = {i: word for word, i in word_to_ix.items()}\n",
    "# print(\"ix_to_word: \", ix_to_word)\n",
    "# next_word = ix_to_word[max_ix.item()]\n",
    "list_vocab = list(vocab)\n",
    "next_word = list_vocab[max_ix]\n",
    "print(\"next most probable word is: \", next_word)\n",
    "#print(\"log probs: \", log_probs)\n",
    "word_prob = []\n",
    "log_probs_np = log_probs.detach().numpy().flatten()\n",
    "# print(\"log probs numpy: \", log_probs_np)\n",
    "for i in range(len(vocab)):\n",
    "    word_prob.append([list_vocab[i], log_probs_np[i]])\n",
    "    \n",
    "sorted_probs = sorted(word_prob, key = lambda tup: tup[1], reverse=True)\n",
    "print(\"sorted probs: \", sorted_probs)"
   ]
  },
  {
   "cell_type": "markdown",
   "metadata": {},
   "source": [
    "Exercise: Computing Word Embeddings: Continuous Bag-of-Words\n~~~~~~~~~~~~~~~~~~~~~~~~~~~~~~~~~~~~~~~~~~~~~~~~~~~~~~~~~~~~\n\nThe Continuous Bag-of-Words model (CBOW) is frequently used in NLP deep\nlearning. It is a model that tries to predict words given the context of\na few words before and a few words after the target word. This is\ndistinct from language modeling, since CBOW is not sequential and does\nnot have to be probabilistic. Typcially, CBOW is used to quickly train\nword embeddings, and these embeddings are used to initialize the\nembeddings of some more complicated model. Usually, this is referred to\nas *pretraining embeddings*. It almost always helps performance a couple\nof percent.\n\nThe CBOW model is as follows. Given a target word $w_i$ and an\n$N$ context window on each side, $w_{i-1}, \\dots, w_{i-N}$\nand $w_{i+1}, \\dots, w_{i+N}$, referring to all context words\ncollectively as $C$, CBOW tries to minimize\n\n\\begin{align}-\\log p(w_i | C) = -\\log \\text{Softmax}(A(\\sum_{w \\in C} q_w) + b)\\end{align}\n\nwhere $q_w$ is the embedding for word $w$.\n\nImplement this model in Pytorch by filling in the class below. Some\ntips:\n\n* Think about which parameters you need to define.\n* Make sure you know what shape each operation expects. Use .view() if you need to\n  reshape.\n\n\n"
   ]
  },
  {
   "cell_type": "code",
   "execution_count": 39,
   "metadata": {
    "collapsed": false
   },
   "outputs": [
    {
     "name": "stdout",
     "output_type": "stream",
     "text": [
      "next most probable word is:  spirits\nsorted probs:  [['spirits', -3.571494], ['Computational', -3.6043441], ['our', -3.6446052], ['process', -3.6532173], ['called', -3.6619964], ['programs', -3.6627073], ['about', -3.6661139], ['of', -3.667089], ['spells.', -3.6754756], ['processes', -3.6888878], ['rules', -3.6935806], ['evolution', -3.6960344], ['other', -3.6961038], ['that', -3.7074409], ['conjure', -3.7213202], ['In', -3.7506506], ['is', -3.7588222], ['We', -3.7936354], ['data.', -3.799165], ['As', -3.8064919], ['direct', -3.8306112], ['a', -3.86346], ['process.', -3.8688204], ['idea', -3.8740613], ['beings', -3.8935022], ['by', -3.9167356], ['pattern', -3.9174557], ['to', -3.968558], ['with', -3.9687386], ['manipulate', -3.978693], ['study', -3.9860647], ['things', -3.9939542], ['program.', -4.0097456], ['the', -4.0122476], ['effect,', -4.073447], ['computers.', -4.0799565], ['processes.', -4.0821033], ['abstract', -4.0989685], ['directed', -4.116846], ['inhabit', -4.155322], ['evolve,', -4.1835294], ['they', -4.195596], ['computer', -4.21617], ['People', -4.222899], ['The', -4.2314906], ['create', -4.238188], ['computational', -4.278097], ['we', -4.2880874], ['are', -4.3646474]]\n"
     ]
    }
   ],
   "source": [
    "CONTEXT_SIZE = 2  # 2 words to the left, 2 to the right\n",
    "raw_text = \"\"\"We are about to study the idea of a computational process.\n",
    "Computational processes are abstract beings that inhabit computers.\n",
    "As they evolve, processes manipulate other abstract things called data.\n",
    "The evolution of a process is directed by a pattern of rules\n",
    "called a program. People create programs to direct processes. In effect,\n",
    "we conjure the spirits of the computer with our spells.\"\"\".split()\n",
    "\n",
    "# By deriving a set from `raw_text`, we deduplicate the array\n",
    "vocab = set(raw_text)\n",
    "vocab_size = len(vocab)\n",
    "\n",
    "word_to_ix = {word: i for i, word in enumerate(vocab)}\n",
    "data = []\n",
    "for i in range(2, len(raw_text) - 2):\n",
    "    context = [raw_text[i - 2], raw_text[i - 1],\n",
    "               raw_text[i + 1], raw_text[i + 2]]\n",
    "    target = raw_text[i]\n",
    "    data.append((context, target))\n",
    "print(data[:5])\n",
    "\n",
    "\n",
    "# here are some functions to help you make\n",
    "# the data ready for use by your module\n",
    "def make_context_vector(context, word_to_ix):\n",
    "    idxs = [word_to_ix[w] for w in context]\n",
    "    return torch.tensor(idxs, dtype=torch.long)\n",
    "\n",
    "\n",
    "make_context_vector(data[0][0], word_to_ix)  # example\n",
    "\n",
    "\n",
    "class CBOW(nn.Module):\n",
    "    def __init__(self, vocab_size, embedding_dim, context_size):\n",
    "        super(CBOW, self).__init__()\n",
    "        self.embeddings = nn.Embedding(vocab_size, embedding_dim)\n",
    "        self.linear1 = nn.Linear(context_size * embedding_dim, 128)\n",
    "        # returns probability of a new word (shows the probability for each \n",
    "        # word in the vocabulary) after the two context words are given  \n",
    "        self.linear2 = nn.Linear(128, vocab_size)\n",
    "\n",
    "    def forward(self, inputs):\n",
    "        embeds = self.embeddings(inputs).view((1, -1))\n",
    "        out = F.relu(self.linear1(embeds))\n",
    "        out = self.linear2(out)\n",
    "        log_probs = F.log_softmax(out, dim=1)\n",
    "        return log_probs\n",
    "\n",
    "\n",
    "# create your model and train.  \n",
    "\n",
    "loss_function = nn.NLLLoss()\n",
    "model = CBOW(len(vocab), EMBEDDING_DIM, CONTEXT_SIZE * 2)\n",
    "optimizer = optim.SGD(model.parameters(), lr=0.001)\n",
    "\n",
    "for epoch in range(10):\n",
    "    total_loss = 0\n",
    "    for context, target in data:\n",
    "        # Step 1. Prepare the inputs to be passed to the model (i.e, turn the words\n",
    "        # into integer indices and wrap them in tensors)\n",
    "        context_idxs = make_context_vector(context, word_to_ix)\n",
    "\n",
    "        # Step 2. Recall that torch *accumulates* gradients. Before passing in a\n",
    "        # new instance, you need to zero out the gradients from the old\n",
    "        # instance\n",
    "        model.zero_grad()\n",
    "\n",
    "        # Step 3. Run the forward pass, getting log probabilities over next\n",
    "        # words\n",
    "        log_probs = model(context_idxs)\n",
    "\n",
    "        # Step 4. Compute your loss function. (Again, Torch wants the target\n",
    "        # word wrapped in a tensor)\n",
    "        loss = loss_function(log_probs, torch.tensor([word_to_ix[target]],\n",
    "                                                     dtype=torch.long))\n",
    "\n",
    "        # Step 5. Do the backward pass and update the gradient\n",
    "        loss.backward()\n",
    "        optimizer.step()\n",
    "\n",
    "        # Get the Python number from a 1-element Tensor by calling tensor.item()\n",
    "        total_loss += loss.item()\n",
    "    losses.append(total_loss)\n",
    "print(losses)  # The loss decreased every iteration over the training data!\n"
   ]
  },
  {
   "cell_type": "code",
   "execution_count": 40,
   "metadata": {
    "collapsed": false
   },
   "outputs": [
    {
     "name": "stdout",
     "output_type": "stream",
     "text": [
      "next most probable word is:  spirits\nsorted probs:  [['spirits', -3.571494], ['Computational', -3.6043441], ['our', -3.6446052], ['process', -3.6532173], ['called', -3.6619964], ['programs', -3.6627073], ['about', -3.6661139], ['of', -3.667089], ['spells.', -3.6754756], ['processes', -3.6888878], ['rules', -3.6935806], ['evolution', -3.6960344], ['other', -3.6961038], ['that', -3.7074409], ['conjure', -3.7213202], ['In', -3.7506506], ['is', -3.7588222], ['We', -3.7936354], ['data.', -3.799165], ['As', -3.8064919], ['direct', -3.8306112], ['a', -3.86346], ['process.', -3.8688204], ['idea', -3.8740613], ['beings', -3.8935022], ['by', -3.9167356], ['pattern', -3.9174557], ['to', -3.968558], ['with', -3.9687386], ['manipulate', -3.978693], ['study', -3.9860647], ['things', -3.9939542], ['program.', -4.0097456], ['the', -4.0122476], ['effect,', -4.073447], ['computers.', -4.0799565], ['processes.', -4.0821033], ['abstract', -4.0989685], ['directed', -4.116846], ['inhabit', -4.155322], ['evolve,', -4.1835294], ['they', -4.195596], ['computer', -4.21617], ['People', -4.222899], ['The', -4.2314906], ['create', -4.238188], ['computational', -4.278097], ['we', -4.2880874], ['are', -4.3646474]]\n"
     ]
    }
   ],
   "source": [
    "\n",
    "context = ['We', 'are', 'to', 'study']\n",
    "context_idxs = torch.tensor([word_to_ix[w] for w in context], dtype=torch.long)\n",
    "log_probs = model(context_idxs)\n",
    "max_ix = torch.argmax(log_probs)\n",
    "# ix_to_word = {i: word for word, i in word_to_ix.items()}\n",
    "# print(\"ix_to_word: \", ix_to_word)\n",
    "# next_word = ix_to_word[max_ix.item()]\n",
    "list_vocab = list(vocab)\n",
    "next_word = list_vocab[max_ix]\n",
    "print(\"next most probable word is: \", next_word)\n",
    "#print(\"log probs: \", log_probs)\n",
    "word_prob = []\n",
    "log_probs_np = log_probs.detach().numpy().flatten()\n",
    "# print(\"log probs numpy: \", log_probs_np)\n",
    "for i in range(len(vocab)):\n",
    "    word_prob.append([list_vocab[i], log_probs_np[i]])\n",
    "    \n",
    "sorted_probs = sorted(word_prob, key = lambda tup: tup[1], reverse=True)\n",
    "print(\"sorted probs: \", sorted_probs)"
   ]
  }
 ],
 "metadata": {
  "kernelspec": {
   "display_name": "Python 3",
   "language": "python",
   "name": "python3"
  },
  "language_info": {
   "codemirror_mode": {
    "name": "ipython",
    "version": 3
   },
   "file_extension": ".py",
   "mimetype": "text/x-python",
   "name": "python",
   "nbconvert_exporter": "python",
   "pygments_lexer": "ipython3",
   "version": "3.6.4"
  }
 },
 "nbformat": 4,
 "nbformat_minor": 0
}
