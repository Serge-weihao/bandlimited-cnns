{
 "cells": [
  {
   "cell_type": "code",
   "execution_count": 62,
   "metadata": {},
   "outputs": [
    {
     "name": "stdout",
     "output_type": "stream",
     "text": [
      "prepare data\n",
      "[1, 2, 3, 4, 5, 6, 7, 8, 9, 10, 11, 12, 13, 14, 15, 16, 17, 18, 19, 20, 21, 22, 23, 24, 25, 26, 27, 28, 29, 30, 31, 32, 33, 34, 35, 36, 37, 38, 39, 40, 41, 42, 43, 44, 45, 46, 47, 48, 49, 50]\n",
      "   0        1        2        3        4        5        6        7    \\\n",
      "0    4 -0.89094 -0.86099 -0.82438 -0.78214 -0.73573 -0.68691 -0.63754   \n",
      "\n",
      "       8        9     ...         261      262      263      264      265  \\\n",
      "0 -0.58937 -0.54342   ...    -0.86309 -0.86791 -0.87271 -0.87846 -0.88592   \n",
      "\n",
      "       266      267      268      269      270  \n",
      "0 -0.89619 -0.90783 -0.91942 -0.93018 -0.93939  \n",
      "\n",
      "[1 rows x 271 columns]\n"
     ]
    }
   ],
   "source": [
    "import pandas as pd\n",
    "import numpy as np\n",
    "\n",
    "print(\"prepare data\")\n",
    "df = pd.read_csv(\"50words_TEST\", header=None)\n",
    "df.head(5)\n",
    "unique = [x for x in df[0].unique()]\n",
    "#unique = unique.sort()\n",
    "print(sorted(unique))\n",
    "#for class_ in df[0].unique():\n",
    "#    print(class_)\n",
    "df2 = df[df[0] == 4].head(1)\n",
    "print(df2)\n",
    "df2.to_csv(\"df2.csv\", index_label=False)\n",
    "with open('df3.csv', 'w') as fp:\n",
    "    for index, row in df2.iterrows():\n",
    "        for value in row[1:]:\n",
    "            fp.write(\"%s\\n\" % value)"
   ]
  }
 ],
 "metadata": {
  "kernelspec": {
   "display_name": "Python 3",
   "language": "python",
   "name": "python3"
  },
  "language_info": {
   "codemirror_mode": {
    "name": "ipython",
    "version": 3
   },
   "file_extension": ".py",
   "mimetype": "text/x-python",
   "name": "python",
   "nbconvert_exporter": "python",
   "pygments_lexer": "ipython3",
   "version": "3.6.3"
  }
 },
 "nbformat": 4,
 "nbformat_minor": 2
}
