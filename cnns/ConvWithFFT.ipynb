{
 "cells": [
  {
   "cell_type": "markdown",
   "metadata": {},
   "source": [
    "# Using FFT to do convolution.\n",
    "[Source code link from StackOverflow](https://stackoverflow.com/questions/40703751/using-fourier-transforms-to-do-convolution?utm_medium=organic&utm_source=google_rich_qa&utm_campaign=google_rich_qa)"
   ]
  },
  {
   "cell_type": "code",
   "execution_count": 7,
   "metadata": {},
   "outputs": [
    {
     "name": "stdout",
     "output_type": "stream",
     "text": [
      "conv: [[ 4  5  0  0  0]\n",
      " [ 3  0 -5  0  0]\n",
      " [ 0 -3  8 15  0]\n",
      " [ 0  0  9 16  5]\n",
      " [ 0  0  0  3  4]]\n",
      "my_result (doubles):  [[ 4.00000000e+00  5.00000000e+00  2.22044605e-16  1.11022302e-15\n",
      "   0.00000000e+00]\n",
      " [ 3.00000000e+00  2.15309973e-16 -5.00000000e+00 -1.77635684e-15\n",
      "  -1.11022302e-15]\n",
      " [-2.77555756e-16 -3.00000000e+00  8.00000000e+00  1.50000000e+01\n",
      "   5.55111512e-17]\n",
      " [ 4.99600361e-16 -3.08515238e-15  9.00000000e+00  1.60000000e+01\n",
      "   5.00000000e+00]\n",
      " [ 0.00000000e+00 -4.44089210e-16 -2.22044605e-16  3.00000000e+00\n",
      "   4.00000000e+00]]\n",
      "fft for my method (ints): [[ 4  5  0  0  0]\n",
      " [ 3  0 -5  0  0]\n",
      " [ 0 -3  8 15  0]\n",
      " [ 0  0  9 16  5]\n",
      " [ 0  0  0  3  4]]\n",
      "is my method correct (for ints):  True\n",
      "fft for my method (doubles): [[ 4.00000000e+00-6.10622664e-16j  5.00000000e+00+1.83758918e-15j\n",
      "   2.22044605e-16-1.38777878e-17j  1.11022302e-15+1.61104109e-15j\n",
      "   0.00000000e+00+3.49720253e-15j]\n",
      " [ 3.00000000e+00+1.11980992e-15j  2.15309973e-16-8.70143447e-16j\n",
      "  -5.00000000e+00-3.10247810e-15j -1.77635684e-15-3.26493325e-15j\n",
      "  -1.11022302e-15-1.45504180e-16j]\n",
      " [-2.77555756e-16+1.11022302e-16j -3.00000000e+00-3.38045904e-15j\n",
      "   8.00000000e+00-6.89726054e-15j  1.50000000e+01-6.16052008e-15j\n",
      "   5.55111512e-17-1.11022302e-16j]\n",
      " [ 4.99600361e-16+3.04352642e-15j -3.08515238e-15-2.62187272e-15j\n",
      "   9.00000000e+00-2.86497066e-15j  1.60000000e+01-2.02078291e-16j\n",
      "   5.00000000e+00-3.85129871e-15j]\n",
      " [ 0.00000000e+00+3.05311332e-15j -4.44089210e-16-3.82856870e-16j\n",
      "  -2.22044605e-16-1.38777878e-17j  3.00000000e+00-1.94167259e-15j\n",
      "   4.00000000e+00-5.93969318e-15j]]\n",
      "fft with int32 output: [[ 4  5  0  0  0]\n",
      " [ 3  0 -4  0  0]\n",
      " [ 0 -3  7 14  0]\n",
      " [ 0  0  8 15  5]\n",
      " [ 0  0  0  3  4]]\n",
      "fft with double output: True\n",
      "lib_magnitude:  [[4.00000000e+00 5.00000000e+00 7.11444792e-15 6.40390518e-15\n",
      "  2.13162821e-15]\n",
      " [3.00000000e+00 2.39808173e-15 5.00000000e+00 0.00000000e+00\n",
      "  8.88178420e-17]\n",
      " [1.06581410e-14 3.00000000e+00 8.00000000e+00 1.50000000e+01\n",
      "  9.94759830e-15]\n",
      " [6.39488462e-15 3.55271368e-16 9.00000000e+00 1.60000000e+01\n",
      "  5.00000000e+00]\n",
      " [7.10542736e-16 3.55271368e-16 9.76996262e-15 3.00000000e+00\n",
      "  4.00000000e+00]]\n",
      "is the magnitude correct:  True\n"
     ]
    },
    {
     "name": "stderr",
     "output_type": "stream",
     "text": [
      "/home/adam/anaconda3/lib/python3.6/site-packages/ipykernel/__main__.py:34: ComplexWarning: Casting complex values to real discards the imaginary part\n"
     ]
    }
   ],
   "source": [
    "import sys\n",
    "from scipy import signal\n",
    "\n",
    "from scipy import linalg\n",
    "import numpy as np\n",
    "\n",
    "x = [[1 , 0 , 0 , 0] , [0 , -1 , 0 , 0] , [0 , 0 , 3 , 0] , [0 , 0 , 0 , 1]]\n",
    "x = np.array(x)\n",
    "y = [[4 , 5] , [3 , 4]]\n",
    "y = np.array(y)\n",
    "\n",
    "standard_conv = signal.convolve2d(x , y , 'full')\n",
    "\n",
    "print(\"conv:\" , standard_conv)\n",
    "\n",
    "s1 = np.array(x.shape)\n",
    "s2 = np.array(y.shape)\n",
    "\n",
    "size = s1 + s2 - 1\n",
    "\n",
    "\n",
    "fsize = 2 ** np.ceil(np.log2(size)).astype(int)\n",
    "fslice = tuple([slice(0, int(sz)) for sz in size])\n",
    "\n",
    "# Along each axis, if the given shape (fsize) is smaller than that of the input, the input is cropped. \n",
    "# If it is larger, the input is padded with zeros. if s is not given, the shape of the input along the axes \n",
    "# specified by axes is used.\n",
    "new_x = np.fft.fft2(x, fsize)\n",
    "\n",
    "new_y = np.fft.fft2(y, fsize)\n",
    "result = np.fft.ifft2(new_x*new_y)[fslice].copy()\n",
    "result_int = np.array(result.real , np.int32)\n",
    "\n",
    "my_result = np.array(result, np.double)\n",
    "print(\"my_result (doubles): \", my_result)\n",
    "\n",
    "print(\"fft for my method (ints):\" , result_int)\n",
    "print(\"is my method correct (for ints): \", np.array_equal(result_int, standard_conv))\n",
    "print(\"fft for my method (doubles):\" , result)\n",
    "\n",
    "print(\"fft with int32 output:\" , np.array(signal.fftconvolve(x ,y) , np.int32))\n",
    "lib_result = np.array(signal.fftconvolve(x, y) , np.double)\n",
    "print(\"fft with double output:\" , np.allclose(my_result, lib_result, atol=1e-12))\n",
    "\n",
    "# the correct way is to take the amplitude:  the abs of a complex number gives us its amplitude/mangnitude\n",
    "lib_magnitude = np.abs(signal.fftconvolve(x, y))\n",
    "print(\"lib_magnitude: \", lib_magnitude)\n",
    "my_magnitude = np.abs(result)\n",
    "print(\"is the magnitude correct: \", np.allclose(my_magnitude, lib_magnitude, atol=1e-12))"
   ]
  }
 ],
 "metadata": {
  "kernelspec": {
   "display_name": "Environment (conda_anaconda3)",
   "language": "python",
   "name": "conda_anaconda3"
  },
  "language_info": {
   "codemirror_mode": {
    "name": "ipython",
    "version": 3
   },
   "file_extension": ".py",
   "mimetype": "text/x-python",
   "name": "python",
   "nbconvert_exporter": "python",
   "pygments_lexer": "ipython3",
   "version": "3.6.5"
  }
 },
 "nbformat": 4,
 "nbformat_minor": 2
}
